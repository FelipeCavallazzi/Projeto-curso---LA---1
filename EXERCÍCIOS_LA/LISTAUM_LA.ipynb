{
 "cells": [
  {
   "cell_type": "code",
   "execution_count": null,
   "id": "initial_id",
   "metadata": {
    "collapsed": true
   },
   "outputs": [],
   "source": [
    "#1\n",
    "\n",
    "lado_a=input(\"Insira o valor de um lado: \")\n",
    "lado_b=input(\"Insira o valor de um lado: \")\n",
    "lado_c=input(\"Insira o valor de um lado: \")\n",
    "\n",
    "if (int(lado_b) <= 0):\n",
    "    if (int(lado_a) <= 0):\n",
    "        if (int(lado_c) <= 0):\n",
    "            print(\"O triângulo não é equilátero\")\n",
    "\n",
    "else:\n",
    "    if (int(lado_a) == int(lado_b)):\n",
    "        if (int(lado_a) == int(lado_c)):\n",
    "            if (int(lado_b) == int(lado_c)):\n",
    "                print(\"O triângulo é equilátero\")"
   ]
  },
  {
   "metadata": {},
   "cell_type": "code",
   "outputs": [],
   "execution_count": null,
   "source": [
    "#2\n",
    "\n",
    "lado_a=input(\"Insira o valor de um lado: \")\n",
    "lado_b=input(\"Insira o valor de um lado: \")\n",
    "lado_c=input(\"Insira o valor de um lado: \")\n",
    "\n",
    "if (int(lado_b) <= 0):\n",
    "    if (int(lado_a) <= 0):\n",
    "        if (int(lado_c) <= 0):\n",
    "            print(\"O triângulo não é equilátero\")\n",
    "\n",
    "else:\n",
    "    if (int(lado_a) == int(lado_b)):\n",
    "        if (int(lado_a) == int(lado_c)):\n",
    "            if (int(lado_b) == int(lado_c)):\n",
    "                print(\"O triângulo é equilátero\")"
   ],
   "id": "87e43f0b3a5bfa0e"
  },
  {
   "metadata": {},
   "cell_type": "code",
   "outputs": [],
   "execution_count": null,
   "source": [
    "#3\n",
    "#3\n",
    "\n",
    "lado_a=int(input(\"Insira o valor de um lado: \"))\n",
    "lado_b=int(input(\"Insira o valor de um lado: \"))\n",
    "lado_c=int(input(\"Insira o valor de um lado: \"))\n",
    "\n",
    "MAIOR=max(lado_a , lado_b, lado_c)\n",
    "\n",
    "if (lado_a> lado_b> lado_c):\n",
    "    lado_a = maior\n",
    "    if(lado_b>lado_c):\n",
    "        lado_b = maior\n",
    "    else:\n",
    "        lado_c = maior\n",
    "\n",
    "\n",
    "\n",
    "if (lado_a <= 0 or lado_b <= 0 or lado_c <= 0):\n",
    "    print(\"Os lados devem ser maiores que zero.\")\n",
    "elif (lado_a + lado_b <= lado_c) or (lado_a + lado_c <= lado_b) or (lado_b + lado_c <= lado_a):\n",
    "    print(\"Os valores informados não formam um triângulo.\")\n",
    "else:\n",
    "\n",
    "    if lado_a == lado_b == lado_c:\n",
    "        print(\"O triângulo é equilátero.\")\n",
    "    elif lado_a == lado_b or lado_a == lado_c or lado_b == lado_c:\n",
    "        print(\"O triângulo é isósceles.\")\n",
    "    else:\n",
    "        print(f\"O triângulo é escaleno e seu maior lado é {MAIOR}.\")"
   ],
   "id": "b7e19cdfcccc2b9f"
  },
  {
   "metadata": {},
   "cell_type": "code",
   "outputs": [],
   "execution_count": null,
   "source": [
    "#4\n",
    "\n",
    "base = float(input(\"Insira o valor da base: \"))\n",
    "altura = float(input(\"Insira o valor da altura: \"))\n",
    "\n",
    "area = (float(base)*float(altura))/2\n",
    "\n",
    "if altura == 0 or base == 0:\n",
    "    print(\"Valores impossíveis\")\n",
    "else:\n",
    "    print(f\"O valor da área é {area}\")"
   ],
   "id": "32182b8ab463a1ba"
  },
  {
   "metadata": {},
   "cell_type": "code",
   "outputs": [],
   "execution_count": null,
   "source": [
    "#5\n",
    "\n",
    "preco = float(input(\"Insira o valor do produto: \"))\n",
    "\n",
    "desconto = preco - preco/4\n",
    "\n",
    "print(f\"O valor com desconto é: R${desconto}\")"
   ],
   "id": "b53db7c528888568"
  },
  {
   "metadata": {},
   "cell_type": "code",
   "outputs": [],
   "execution_count": null,
   "source": [
    "#6\n",
    "\n",
    "anos = int(input(\"Insira os anos: \"))\n",
    "meses = int(input(\"Insira os meses: \"))\n",
    "dias = int(input(\"Insira os dias: \"))\n",
    "\n",
    "idade = (anos*365) + (meses*30) + dias\n",
    "\n",
    "print(f\"A idade em dias é: {idade}\")"
   ],
   "id": "f8d58987f26f32c"
  },
  {
   "metadata": {},
   "cell_type": "code",
   "outputs": [],
   "execution_count": null,
   "source": [
    "#7\n",
    "\n",
    "eleitores = int(input(\"Insira o número de eleitores: \"))\n",
    "brancos = int(input(\"Insira o número de votos brancos: \"))\n",
    "nulos = int(input(\"Insira o número de votos nulos: \"))\n",
    "validos = int(input(\"Insira o número de votos válidos: \"))\n",
    "\n",
    "if brancos+nulos+validos != eleitores:\n",
    "    print(\"Soma de votos não corresponde ao total de eleitores.\")\n",
    "else:\n",
    "    pbrancos = (brancos/eleitores)*100\n",
    "    pnulos = (nulos/eleitores)*100\n",
    "    pvalidos = (validos/eleitores)*100\n",
    "\n",
    "    print(f\"Percentual de votos brancos: {pbrancos}%\")\n",
    "    print(f\"Percentual de votos nulos: {pnulos}%\")\n",
    "    print(f\"Percentual de votos válidos: {pvalidos}%\")"
   ],
   "id": "29d8a296311a93ef"
  }
 ],
 "metadata": {
  "kernelspec": {
   "display_name": "Python 3",
   "language": "python",
   "name": "python3"
  },
  "language_info": {
   "codemirror_mode": {
    "name": "ipython",
    "version": 2
   },
   "file_extension": ".py",
   "mimetype": "text/x-python",
   "name": "python",
   "nbconvert_exporter": "python",
   "pygments_lexer": "ipython2",
   "version": "2.7.6"
  }
 },
 "nbformat": 4,
 "nbformat_minor": 5
}
